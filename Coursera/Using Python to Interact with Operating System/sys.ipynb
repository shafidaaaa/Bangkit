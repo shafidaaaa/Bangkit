{
 "cells": [
  {
   "cell_type": "code",
   "execution_count": 1,
   "metadata": {},
   "outputs": [
    {
     "name": "stdout",
     "output_type": "stream",
     "text": [
      "This is the name of the program: c:\\Users\\hp\\anaconda3\\Lib\\site-packages\\ipykernel_launcher.py\n",
      "Argument List: ['c:\\\\Users\\\\hp\\\\anaconda3\\\\Lib\\\\site-packages\\\\ipykernel_launcher.py', '--f=c:\\\\Users\\\\hp\\\\AppData\\\\Roaming\\\\jupyter\\\\runtime\\\\kernel-v2-1356wnys22GV5U76.json']\n"
     ]
    }
   ],
   "source": [
    "  \n",
    "import sys \n",
    "  \n",
    "print(\"This is the name of the program:\", sys.argv[0]) \n",
    "  \n",
    "print(\"Argument List:\", str(sys.argv)) "
   ]
  },
  {
   "cell_type": "code",
   "execution_count": 2,
   "metadata": {},
   "outputs": [
    {
     "name": "stdout",
     "output_type": "stream",
     "text": [
      "This is the name of the program: c:\\Users\\hp\\anaconda3\\Lib\\site-packages\\ipykernel_launcher.py\n",
      "Number of elements including the name of the program: 2\n",
      "Number of elements excluding the name of the program: 1\n",
      "Argument List: ['c:\\\\Users\\\\hp\\\\anaconda3\\\\Lib\\\\site-packages\\\\ipykernel_launcher.py', '--f=c:\\\\Users\\\\hp\\\\AppData\\\\Roaming\\\\jupyter\\\\runtime\\\\kernel-v2-1356wnys22GV5U76.json']\n"
     ]
    }
   ],
   "source": [
    "print(\"This is the name of the program:\", \n",
    "       sys.argv[0]) \n",
    "print(\"Number of elements including the name of the program:\", \n",
    "       len(sys.argv)) \n",
    "print(\"Number of elements excluding the name of the program:\", \n",
    "      (len(sys.argv)-1)) \n",
    "print(\"Argument List:\", \n",
    "       str(sys.argv)) "
   ]
  },
  {
   "cell_type": "code",
   "execution_count": null,
   "metadata": {},
   "outputs": [],
   "source": []
  }
 ],
 "metadata": {
  "kernelspec": {
   "display_name": "base",
   "language": "python",
   "name": "python3"
  },
  "language_info": {
   "codemirror_mode": {
    "name": "ipython",
    "version": 3
   },
   "file_extension": ".py",
   "mimetype": "text/x-python",
   "name": "python",
   "nbconvert_exporter": "python",
   "pygments_lexer": "ipython3",
   "version": "3.11.5"
  }
 },
 "nbformat": 4,
 "nbformat_minor": 2
}
