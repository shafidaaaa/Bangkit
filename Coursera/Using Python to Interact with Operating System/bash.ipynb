{
 "cells": [
  {
   "cell_type": "code",
   "execution_count": null,
   "metadata": {},
   "outputs": [],
   "source": []
  },
  {
   "cell_type": "markdown",
   "metadata": {},
   "source": [
    "mkdir mynewdir\n",
    "cd mynewdir/\n",
    "/mynewdir$ pwd\n",
    "/mynewdir$ cp ../spider.txt .\n",
    "/mynewdir$ touch myfile.txt\n",
    "/mynewdir$ ls -l \n",
    "#Output:\n",
    "#-rw-rw-r-- 1 user user   0 Mai 22 14:22 myfile.txt\n",
    "#-rw-rw-r-- 1 user user 192 Mai 22 14:18 spider.txt\n",
    "/mynewdir$ ls -la\n",
    "#Output:\n",
    "#total 12\n",
    "#drwxr-xr-x  2 user user  4096 Mai 22 14:17 .\n",
    "#drwxr-xr-x 56 user user 12288 Mai 22 14:17 ..\n",
    "#-rw-rw-r--  1 user user     0 Mai 22 14:22 myfile.txt\n",
    "#-rw-rw-r--  1 user user   192 Mai 22 14:18 spider.txt\n",
    "/mynewdir$ mv myfile.txt emptyfile.txt\n",
    "/mynewdir$ cp spider.txt yetanotherfile.txt\n",
    "/mynewdir$ ls -l\n",
    "#Output:\n",
    "#total 8\n",
    "#-rw-rw-r-- 1 user user   0 Mai 22 14:22 emptyfile.txt\n",
    "#-rw-rw-r-- 1 user user 192 Mai 22 14:18 spider.txt\n",
    "#-rw-rw-r-- 1 user user 192 Mai 22 14:23 yetanotherfile.txt\n",
    "/mynewdir$ rm *\n",
    "/mynewdir$ ls -l\n",
    "#total 0\n",
    "/mynewdir$ cd ..\n",
    "rmdir mynewdir/\n",
    "ls mynewdir\n",
    "#ls: cannot access 'mynewdir': No such file or directory\n",
    "\n"
   ]
  },
  {
   "cell_type": "markdown",
   "metadata": {},
   "source": []
  },
  {
   "cell_type": "code",
   "execution_count": null,
   "metadata": {},
   "outputs": [],
   "source": [
    "cat stdout_example.py \n",
    "#!/usr/bin/env python3\n",
    "print(\"Don't mind me, just a bit of text here...\")\n",
    "./stdout_example.py \n",
    "#Output: Don't mind me, just a bit of text here...\n",
    "./stdout_example.py > new_file.txt\n",
    "cat new_file.txt \n",
    "#Output: Don't mind me, just a bit of text here...\n",
    "./stdout_example.py >> new_file.txt\n",
    "cat new_file.txt \n",
    "#Output: Don't mind me, just a bit of text here...\n",
    " #Don't mind me, just a bit of text here...\n",
    "cat streams_err.py \n",
    "#!/usr/bin/env python3\n",
    "\n",
    "data = input(\"This will come from STDIN: \")\n",
    "print(\"Now we write it to STDOUT: \" + data)\n",
    "raise ValueError(\"Now we generate an error to STDERR\")\n",
    "./streams_err.py < new_file.txt\n",
    "#This will come from STDIN: Now we write it to STDOUT: Don't mind #me, just a bit of text here...\n",
    "#Traceback (most recent call last):\n",
    "  #File \"./streams_err.py\", line 5, in <module>\n",
    "    #raise ValueError(\"Now we generate an error to STDERR\")\n",
    "#ValueError: Now we generate an error to STDERR\n",
    "./streams_err.py < new_file.txt 2> error_file.txt\n",
    "#This will come from STDIN: Now we write it to STDOUT: Don't mind #me, just a bit of text here...\n",
    "cat error_file.txt \n",
    "#Traceback (most recent call last):\n",
    "  #File \"./streams_err.py\", line 5, in <module>\n",
    "    #raise ValueError(\"Now we generate an error to STDERR\")\n",
    "#ValueError: Now we generate an error to STDERR\n",
    "echo \"These are the contents of the file\" > myamazingfile.txt\n",
    "cat myamazingfile.txt \n",
    "#These are the contents of the file\n"
   ]
  },
  {
   "cell_type": "code",
   "execution_count": null,
   "metadata": {},
   "outputs": [],
   "source": [
    "ls -l | less\n",
    "#(... A list of files appears...)\n",
    "cat spider.txt | tr ' ' '\\n' | sort | uniq -c | sort -nr | head\n",
    "     # 7 the\n",
    "     # 3 up\n",
    "     # 3 spider\n",
    "     # 3 and\n",
    "     # 2 rain\n",
    "     # 2 itsy\n",
    "     # 2 climbed\n",
    "     # 2 came\n",
    "     # 2 bitsy\n",
    "     # 1 waterspout."
   ]
  },
  {
   "cell_type": "code",
   "execution_count": null,
   "metadata": {},
   "outputs": [],
   "source": [
    "cat capitalize.py\n",
    "#!/usr/bin/env python3\n",
    "\n",
    "import sys\n",
    "\n",
    "for line in sys.stdin:\n",
    "    print(line.strip().capitalize())"
   ]
  },
  {
   "cell_type": "code",
   "execution_count": null,
   "metadata": {},
   "outputs": [],
   "source": [
    "cat haiku.txt | ./capitalize.py \n",
    "#Advance your career,\n",
    "#Automating with python,\n",
    "#It's so fun to learn.\n"
   ]
  },
  {
   "cell_type": "code",
   "execution_count": null,
   "metadata": {},
   "outputs": [],
   "source": [
    "ping www.example.com\n",
    "#PING www.example.com(2606:2800:220:1:248:1893:25c8:1946 (2606:2800:220:1:248:1893:25c8:1946)) 56 data bytes\n",
    " Press Control Z: the program stops. \n",
    "\n",
    "fg\n",
    "#ping www.example.com\n",
    "#64 bytes from 2606:2800:220:1:248:1893:25c8:1946 (2606:2800:220:1:248:1893:25c8:1946): icmp_seq=5 ttl=51 time=93.6 ms\n",
    "\n",
    "\n",
    "Press Control C:\n",
    "\n",
    "--- www.example.com ping statistics ---\n",
    "\n",
    "9 packets transmitted, 9 received, 0% packet loss, time 8013ms\n",
    "\n",
    "rtt min/avg/max/mdev = 93.587/93.668/93.719/0.149 ms"
   ]
  },
  {
   "cell_type": "markdown",
   "metadata": {},
   "source": [
    "ps: lists the processes executing in the current terminal for the current user\n",
    "\n",
    "ps ax: lists all processes currently executing for all users  \n",
    "\n",
    "ps e: shows the environment for the processes listed  \n",
    "\n",
    "kill PID: sends the SIGTERM signal to the process identified by PID\n",
    "\n",
    "fg: causes a job that was stopped or in the background to return to the foreground\n",
    "\n",
    "bg: causes a job that was stopped to go to the background\n",
    "\n",
    "jobs: lists the jobs currently running or stopped\n",
    "\n",
    "top: shows the processes currently using the most CPU time (press \"q\" to quit)  "
   ]
  },
  {
   "cell_type": "markdown",
   "metadata": {},
   "source": [
    "command > file: redirects standard output, overwrites file\n",
    "\n",
    "command >> file: redirects standard output, appends to file\n",
    "\n",
    "command < file: redirects standard input from file\n",
    "\n",
    "command 2> file: redirects standard error to file\n",
    "\n",
    "command1 | command2: connects the output of command1 to the input of command2"
   ]
  },
  {
   "cell_type": "markdown",
   "metadata": {},
   "source": [
    "#!/bin/bash\n",
    "echo \"Starting at: $(date)\"\n",
    "echo\n",
    "\n",
    "echo \"UPTIME\"\n",
    "uptime\n",
    "echo\n",
    "\n",
    "echo \"FREE\"\n",
    "free\n",
    "echo\n",
    "\n",
    "echo \"WHO\"\n",
    "who\n",
    "echo\n",
    "\n",
    "echo \"Finishing at: $(date)\""
   ]
  },
  {
   "cell_type": "markdown",
   "metadata": {},
   "source": [
    "#!/bin/bash\n",
    "\n",
    "echo \"Starting at: $(date)\"; echo\n",
    "\n",
    "echo \"UPTIME\"; uptime; echo\n",
    "\n",
    "echo \"FREE\"; free; echo\n",
    "\n",
    "echo \"WHO\"; who; echo\n",
    "\n",
    "echo \"Finishing at: $(date)\""
   ]
  },
  {
   "cell_type": "code",
   "execution_count": null,
   "metadata": {},
   "outputs": [],
   "source": [
    "echo *.py"
   ]
  },
  {
   "cell_type": "code",
   "execution_count": null,
   "metadata": {},
   "outputs": [],
   "source": [
    "if test -n \"$PATH\"; then echo \"Your path is not empty\"; fi"
   ]
  },
  {
   "cell_type": "code",
   "execution_count": null,
   "metadata": {},
   "outputs": [],
   "source": [
    "#!/bin/bash\n",
    "\n",
    "if grep \"127\\.0\\.0\\.1\" /etc/hosts; then\n",
    "\n",
    "\techo \"Everything ok\"\n",
    "\n",
    "else\n",
    "\n",
    "\techo \"ERROR! 127.0.0.1 is not in /etc/hosts\""
   ]
  },
  {
   "cell_type": "code",
   "execution_count": null,
   "metadata": {},
   "outputs": [],
   "source": [
    "#!/bin/bash\n",
    "\n",
    "n=1\n",
    "while [ $n -le 5 ]; do\n",
    "  echo \"Iteration number $n\"\n",
    "  ((n+=1))\n",
    "done\n"
   ]
  },
  {
   "cell_type": "code",
   "execution_count": null,
   "metadata": {},
   "outputs": [],
   "source": [
    "#!/bin/bash\n",
    "\n",
    "n=0\n",
    "command=$1\n",
    "while ! $command && [ $n -le 5 ]; do\n",
    "        sleep $n\n",
    "        ((n+=1))\n",
    "        echo \"Retry #$n\"\n",
    "done;\n"
   ]
  },
  {
   "cell_type": "code",
   "execution_count": null,
   "metadata": {},
   "outputs": [],
   "source": [
    "cd old_website/\n",
    "/old_website$ ls -l"
   ]
  },
  {
   "cell_type": "code",
   "execution_count": null,
   "metadata": {},
   "outputs": [],
   "source": [
    "#!/bin/bash\n",
    "\n",
    "for file in *.HTM; do\n",
    "        name=$(basename \"$file\" .HTM)\n",
    "        mv \"$file\" \"$name.html\" \n",
    "done "
   ]
  },
  {
   "cell_type": "code",
   "execution_count": null,
   "metadata": {},
   "outputs": [],
   "source": [
    "#!/bin/bash\n",
    "\n",
    "for file in *.HTM; do\n",
    "        name=$(basename \"$file\" .HTM)\n",
    "        echo mv \"$file\" \"$name.html\" \n",
    "done\n"
   ]
  },
  {
   "cell_type": "code",
   "execution_count": null,
   "metadata": {},
   "outputs": [],
   "source": [
    "/old_website$ chmod +x rename.sh\n",
    "/old_website$ ./rename.sh "
   ]
  },
  {
   "cell_type": "code",
   "execution_count": null,
   "metadata": {},
   "outputs": [],
   "source": [
    "tail /var/log/syslog | cut -d' ' -f5-"
   ]
  },
  {
   "cell_type": "code",
   "execution_count": null,
   "metadata": {},
   "outputs": [],
   "source": [
    "cut -d' ' -f5- /var/log/syslog | sort | uniq -c | sort -nr | head"
   ]
  },
  {
   "cell_type": "code",
   "execution_count": null,
   "metadata": {},
   "outputs": [],
   "source": [
    "#!/bin/bash\n",
    "\n",
    "for logfile in /var/log/*log; do\n",
    "    echo \"Processing: $logfile\"\n",
    "    cut -d' ' -f5- $logfile | sort | uniq -c | sort -nr | head -5\n",
    "done\n"
   ]
  },
  {
   "cell_type": "code",
   "execution_count": null,
   "metadata": {},
   "outputs": [],
   "source": [
    "for i in $(cat story.txt); do B=`echo -n \"${i:0:1}\" | tr \"[:lower:]\" \"[:upper:]\"`; echo -n \"${B}${i:1} \"; done; echo -e \"\\n\""
   ]
  },
  {
   "cell_type": "code",
   "execution_count": null,
   "metadata": {},
   "outputs": [],
   "source": [
    ">oldFiles.txt\n",
    "\n",
    "files = $(grep \"jane_\" ../data/list.txt | cut -d' ' -f 3)\n",
    "\n",
    "for file in $files:\n",
    "    echo \"/home/student-04-9394839/$files\"\n",
    "\n",
    "\n",
    "for file in $(grep \"jane\" ../data/list.txt | cut -d' ' -f 3):\n",
    "    if file -e \n",
    "    file >> oldFiles.txt"
   ]
  },
  {
   "cell_type": "code",
   "execution_count": 9,
   "metadata": {},
   "outputs": [
    {
     "name": "stdout",
     "output_type": "stream",
     "text": [
      "3020302\n"
     ]
    }
   ],
   "source": [
    "x = 100\n",
    "f = 3*(x**3)+2*(x**2)+3*x+2\n",
    "\n",
    "print(f)"
   ]
  },
  {
   "cell_type": "code",
   "execution_count": 10,
   "metadata": {},
   "outputs": [
    {
     "name": "stdout",
     "output_type": "stream",
     "text": [
      "0\n"
     ]
    }
   ],
   "source": [
    "a = 0\n",
    "\n",
    "y = 1 + a\n",
    "print(a)"
   ]
  },
  {
   "cell_type": "code",
   "execution_count": 1,
   "metadata": {},
   "outputs": [
    {
     "name": "stdout",
     "output_type": "stream",
     "text": [
      "249.0\n"
     ]
    }
   ],
   "source": [
    "print(3**5.0 +3*2)"
   ]
  },
  {
   "cell_type": "code",
   "execution_count": null,
   "metadata": {},
   "outputs": [],
   "source": []
  }
 ],
 "metadata": {
  "kernelspec": {
   "display_name": "base",
   "language": "python",
   "name": "python3"
  },
  "language_info": {
   "codemirror_mode": {
    "name": "ipython",
    "version": 3
   },
   "file_extension": ".py",
   "mimetype": "text/x-python",
   "name": "python",
   "nbconvert_exporter": "python",
   "pygments_lexer": "ipython3",
   "version": "3.11.5"
  }
 },
 "nbformat": 4,
 "nbformat_minor": 2
}
