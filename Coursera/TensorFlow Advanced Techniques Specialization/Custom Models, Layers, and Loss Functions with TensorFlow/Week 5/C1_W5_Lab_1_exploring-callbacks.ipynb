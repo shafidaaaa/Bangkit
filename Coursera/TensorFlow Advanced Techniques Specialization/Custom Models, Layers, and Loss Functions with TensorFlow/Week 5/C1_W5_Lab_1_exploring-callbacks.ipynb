{
 "cells": [
  {
   "cell_type": "markdown",
   "metadata": {
    "colab_type": "text",
    "id": "view-in-github"
   },
   "source": [
    "<a href=\"https://colab.research.google.com/github/https-deeplearning-ai/tensorflow-3-public/blob/main/Course%201%20-%20Custom%20Models%2C%20Layers%20and%20Loss%20Functions/Week%205%20-%20Callbacks/C1_W5_Lab_1_exploring-callbacks.ipynb\" target=\"_parent\"><img src=\"https://colab.research.google.com/assets/colab-badge.svg\" alt=\"Open In Colab\"/></a>"
   ]
  },
  {
   "cell_type": "markdown",
   "metadata": {
    "colab_type": "text",
    "id": "0c_TYhQOUe1j"
   },
   "source": [
    "# Ungraded Lab: Introduction to Keras callbacks\n",
    "\n",
    "In Keras, `Callback` is a Python class meant to be subclassed to provide specific functionality, with a set of methods called at various stages of training (including batch/epoch start and ends), testing, and predicting. Callbacks are useful to get a view on internal states and statistics of the model during training. The methods of the callbacks can  be called at different stages of training/evaluating/inference. Keras has available [callbacks](https://keras.io/api/callbacks/) and we'll show how you can use it in the following sections. Please click the **Open in Colab** badge above to complete this exercise in Colab. This will allow you to take advantage of the free GPU runtime (for faster training) and compatibility with all the packages needed in this notebook."
   ]
  },
  {
   "cell_type": "markdown",
   "metadata": {
    "colab_type": "text",
    "id": "Uyl69EyRQx-f"
   },
   "source": [
    "## Model methods that take callbacks\n",
    "Users can supply a list of callbacks to the following `tf.keras.Model` methods:\n",
    "* [`fit()`](https://www.tensorflow.org/versions/r2.0/api_docs/python/tf/keras/Model#fit), [`fit_generator()`](https://www.tensorflow.org/versions/r2.0/api_docs/python/tf/keras/Model#fit_generator)\n",
    "Trains the model for a fixed number of epochs (iterations over a dataset, or data yielded batch-by-batch by a Python generator).\n",
    "* [`evaluate()`](https://www.tensorflow.org/versions/r2.0/api_docs/python/tf/keras/Model#evaluate), [`evaluate_generator()`](https://www.tensorflow.org/versions/r2.0/api_docs/python/tf/keras/Model#evaluate_generator)\n",
    "Evaluates the model for given data or data generator. Outputs the loss and metric values from the evaluation.\n",
    "* [`predict()`](https://www.tensorflow.org/versions/r2.0/api_docs/python/tf/keras/Model#predict), [`predict_generator()`](https://www.tensorflow.org/versions/r2.0/api_docs/python/tf/keras/Model#predict_generator)\n",
    "Generates output predictions for the input data or data generator."
   ]
  },
  {
   "cell_type": "markdown",
   "metadata": {},
   "source": [
    "## Imports"
   ]
  },
  {
   "cell_type": "code",
   "execution_count": 1,
   "metadata": {
    "colab": {},
    "colab_type": "code",
    "id": "AlT1Kh3uA9lZ"
   },
   "outputs": [
    {
     "name": "stdout",
     "output_type": "stream",
     "text": [
      "Version:  2.1.0\n"
     ]
    }
   ],
   "source": [
    "from __future__ import absolute_import, division, print_function, unicode_literals\n",
    "\n",
    "try:\n",
    "    # %tensorflow_version only exists in Colab.\n",
    "    %tensorflow_version 2.x\n",
    "except Exception:\n",
    "    pass\n",
    "\n",
    "import tensorflow as tf\n",
    "import tensorflow_datasets as tfds\n",
    "import matplotlib.pyplot as plt\n",
    "import io\n",
    "from PIL import Image\n",
    "\n",
    "from tensorflow.keras.callbacks import TensorBoard, EarlyStopping, LearningRateScheduler, ModelCheckpoint, CSVLogger, ReduceLROnPlateau\n",
    "%load_ext tensorboard\n",
    "\n",
    "import os\n",
    "import matplotlib.pylab as plt\n",
    "import numpy as np\n",
    "import math\n",
    "import datetime\n",
    "import pandas as pd\n",
    "\n",
    "print(\"Version: \", tf.__version__)\n",
    "tf.get_logger().setLevel('INFO')"
   ]
  },
  {
   "cell_type": "markdown",
   "metadata": {
    "colab_type": "text",
    "id": "HnSljqtsXKfb"
   },
   "source": [
    "# Examples of Keras callback applications\n",
    "The following section will guide you through creating simple [Callback](https://keras.io/api/callbacks/) applications."
   ]
  },
  {
   "cell_type": "code",
   "execution_count": 2,
   "metadata": {
    "colab": {},
    "colab_type": "code",
    "id": "spskRuxvCYQE"
   },
   "outputs": [],
   "source": [
    "# Download and prepare the horses or humans dataset\n",
    "\n",
    "# horses_or_humans 3.0.0 has already been downloaded for you\n",
    "path = \"./tensorflow_datasets\"\n",
    "splits, info = tfds.load('horses_or_humans', data_dir=path, as_supervised=True, with_info=True, split=['train[:80%]', 'train[80%:]', 'test'])\n",
    "\n",
    "(train_examples, validation_examples, test_examples) = splits\n",
    "\n",
    "num_examples = info.splits['train'].num_examples\n",
    "num_classes = info.features['label'].num_classes"
   ]
  },
  {
   "cell_type": "code",
   "execution_count": 3,
   "metadata": {
    "colab": {},
    "colab_type": "code",
    "id": "veIsubKTCZsN"
   },
   "outputs": [],
   "source": [
    "SIZE = 150 #@param {type:\"slider\", min:64, max:300, step:1}\n",
    "IMAGE_SIZE = (SIZE, SIZE)"
   ]
  },
  {
   "cell_type": "code",
   "execution_count": 4,
   "metadata": {
    "colab": {},
    "colab_type": "code",
    "id": "faajLlErCb1S"
   },
   "outputs": [],
   "source": [
    "def format_image(image, label):\n",
    "  image = tf.image.resize(image, IMAGE_SIZE) / 255.0\n",
    "  return  image, label"
   ]
  },
  {
   "cell_type": "code",
   "execution_count": 5,
   "metadata": {
    "colab": {},
    "colab_type": "code",
    "id": "AVXPuU12Cdka"
   },
   "outputs": [],
   "source": [
    "BATCH_SIZE = 32 #@param {type:\"integer\"}"
   ]
  },
  {
   "cell_type": "code",
   "execution_count": 6,
   "metadata": {
    "colab": {},
    "colab_type": "code",
    "id": "0lHDkFVaCe48"
   },
   "outputs": [],
   "source": [
    "train_batches = train_examples.shuffle(num_examples // 4).map(format_image).batch(BATCH_SIZE).prefetch(1)\n",
    "validation_batches = validation_examples.map(format_image).batch(BATCH_SIZE).prefetch(1)\n",
    "test_batches = test_examples.map(format_image).batch(1)"
   ]
  },
  {
   "cell_type": "code",
   "execution_count": 7,
   "metadata": {
    "colab": {},
    "colab_type": "code",
    "id": "DxsCqEIkCgUt"
   },
   "outputs": [
    {
     "data": {
      "text/plain": [
       "TensorShape([32, 150, 150, 3])"
      ]
     },
     "execution_count": 7,
     "metadata": {},
     "output_type": "execute_result"
    }
   ],
   "source": [
    "for image_batch, label_batch in train_batches.take(1):\n",
    "  pass\n",
    "\n",
    "image_batch.shape"
   ]
  },
  {
   "cell_type": "code",
   "execution_count": 8,
   "metadata": {
    "colab": {},
    "colab_type": "code",
    "id": "iDBpWvHXCh2A"
   },
   "outputs": [],
   "source": [
    "def build_model(dense_units, input_shape=IMAGE_SIZE + (3,)):\n",
    "  model = tf.keras.models.Sequential([\n",
    "      tf.keras.layers.Conv2D(16, (3, 3), activation='relu', input_shape=input_shape),\n",
    "      tf.keras.layers.MaxPooling2D(2, 2),\n",
    "      tf.keras.layers.Conv2D(32, (3, 3), activation='relu'),\n",
    "      tf.keras.layers.MaxPooling2D(2, 2),\n",
    "      tf.keras.layers.Conv2D(64, (3, 3), activation='relu'),\n",
    "      tf.keras.layers.MaxPooling2D(2, 2),\n",
    "      tf.keras.layers.Flatten(),\n",
    "      tf.keras.layers.Dense(dense_units, activation='relu'),\n",
    "      tf.keras.layers.Dense(2, activation='softmax')\n",
    "  ])\n",
    "  return model"
   ]
  },
  {
   "cell_type": "markdown",
   "metadata": {
    "colab_type": "text",
    "id": "0ZKGkjagENSw"
   },
   "source": [
    "## [TensorBoard](https://keras.io/api/callbacks/tensorboard/)\n",
    "\n",
    "Enable visualizations for TensorBoard."
   ]
  },
  {
   "cell_type": "code",
   "execution_count": 9,
   "metadata": {
    "colab": {},
    "colab_type": "code",
    "id": "CeiD2WVEHbex"
   },
   "outputs": [],
   "source": [
    "!rm -rf logs"
   ]
  },
  {
   "cell_type": "code",
   "execution_count": 10,
   "metadata": {
    "colab": {},
    "colab_type": "code",
    "id": "PpLwPLnAEOzv"
   },
   "outputs": [
    {
     "name": "stdout",
     "output_type": "stream",
     "text": [
      "Epoch 1/10\n",
      "26/26 [==============================] - 22s 835ms/step - loss: 0.6803 - accuracy: 0.5572 - val_loss: 0.6893 - val_accuracy: 0.4341\n",
      "Epoch 2/10\n",
      "26/26 [==============================] - 20s 786ms/step - loss: 0.6460 - accuracy: 0.6740 - val_loss: 0.6245 - val_accuracy: 0.7659\n",
      "Epoch 3/10\n",
      "26/26 [==============================] - 20s 785ms/step - loss: 0.5940 - accuracy: 0.7409 - val_loss: 0.5656 - val_accuracy: 0.7268\n",
      "Epoch 4/10\n",
      "26/26 [==============================] - 20s 787ms/step - loss: 0.5322 - accuracy: 0.7701 - val_loss: 0.6367 - val_accuracy: 0.5951\n",
      "Epoch 5/10\n",
      "26/26 [==============================] - 21s 792ms/step - loss: 0.4791 - accuracy: 0.7786 - val_loss: 0.5324 - val_accuracy: 0.7366\n",
      "Epoch 6/10\n",
      "26/26 [==============================] - 20s 785ms/step - loss: 0.4389 - accuracy: 0.8102 - val_loss: 0.3962 - val_accuracy: 0.8683\n",
      "Epoch 7/10\n",
      "26/26 [==============================] - 20s 781ms/step - loss: 0.4047 - accuracy: 0.8285 - val_loss: 0.3567 - val_accuracy: 0.8585\n",
      "Epoch 8/10\n",
      "26/26 [==============================] - 20s 784ms/step - loss: 0.3666 - accuracy: 0.8394 - val_loss: 0.3021 - val_accuracy: 0.8732\n",
      "Epoch 9/10\n",
      "26/26 [==============================] - 20s 774ms/step - loss: 0.3110 - accuracy: 0.8856 - val_loss: 0.2548 - val_accuracy: 0.9220\n",
      "Epoch 10/10\n",
      "26/26 [==============================] - 20s 785ms/step - loss: 0.2451 - accuracy: 0.9246 - val_loss: 0.1872 - val_accuracy: 0.9659\n"
     ]
    },
    {
     "data": {
      "text/plain": [
       "<tensorflow.python.keras.callbacks.History at 0x748a33f41690>"
      ]
     },
     "execution_count": 10,
     "metadata": {},
     "output_type": "execute_result"
    }
   ],
   "source": [
    "model = build_model(dense_units=256)\n",
    "model.compile(\n",
    "    optimizer='sgd',\n",
    "    loss='sparse_categorical_crossentropy', \n",
    "    metrics=['accuracy'])\n",
    "  \n",
    "logdir = os.path.join(\"logs\", datetime.datetime.now().strftime(\"%Y%m%d-%H%M%S\"))\n",
    "tensorboard_callback = tf.keras.callbacks.TensorBoard(logdir)\n",
    "\n",
    "model.fit(train_batches, \n",
    "          epochs=10, \n",
    "          validation_data=validation_batches, \n",
    "          callbacks=[tensorboard_callback])"
   ]
  },
  {
   "cell_type": "code",
   "execution_count": 11,
   "metadata": {
    "colab": {},
    "colab_type": "code",
    "id": "iJunWOjZE0ir"
   },
   "outputs": [
    {
     "data": {
      "text/plain": [
       "Reusing TensorBoard on port 6006 (pid 1483), started 0:07:40 ago. (Use '!kill 1483' to kill it.)"
      ]
     },
     "metadata": {},
     "output_type": "display_data"
    },
    {
     "data": {
      "text/html": [
       "\n",
       "      <iframe id=\"tensorboard-frame-e46eae62fa794e06\" width=\"100%\" height=\"800\" frameborder=\"0\">\n",
       "      </iframe>\n",
       "      <script>\n",
       "        (function() {\n",
       "          const frame = document.getElementById(\"tensorboard-frame-e46eae62fa794e06\");\n",
       "          const url = new URL(\"/\", window.location);\n",
       "          url.port = 6006;\n",
       "          frame.src = url;\n",
       "        })();\n",
       "      </script>\n",
       "  "
      ],
      "text/plain": [
       "<IPython.core.display.HTML object>"
      ]
     },
     "metadata": {},
     "output_type": "display_data"
    }
   ],
   "source": [
    "%tensorboard --logdir logs"
   ]
  },
  {
   "cell_type": "markdown",
   "metadata": {
    "colab_type": "text",
    "id": "wv9H4Pc2Mfl7"
   },
   "source": [
    "## [Model Checkpoint](https://keras.io/api/callbacks/model_checkpoint/)\n",
    "\n",
    "Callback to save the Keras model or model weights at some frequency."
   ]
  },
  {
   "cell_type": "code",
   "execution_count": 12,
   "metadata": {
    "colab": {},
    "colab_type": "code",
    "id": "PYV4FJ8iMmDq"
   },
   "outputs": [
    {
     "name": "stdout",
     "output_type": "stream",
     "text": [
      "Epoch 1/5\n",
      "\n",
      "Epoch 00001: saving model to weights.01-0.70.h5\n",
      "26/26 - 21s - loss: 0.6786 - accuracy: 0.5572 - val_loss: 0.7044 - val_accuracy: 0.4341\n",
      "Epoch 2/5\n",
      "\n",
      "Epoch 00002: saving model to weights.02-0.66.h5\n",
      "26/26 - 20s - loss: 0.6446 - accuracy: 0.6326 - val_loss: 0.6619 - val_accuracy: 0.4927\n",
      "Epoch 3/5\n",
      "\n",
      "Epoch 00003: saving model to weights.03-0.57.h5\n",
      "26/26 - 21s - loss: 0.6044 - accuracy: 0.7153 - val_loss: 0.5696 - val_accuracy: 0.8000\n",
      "Epoch 4/5\n",
      "\n",
      "Epoch 00004: saving model to weights.04-0.53.h5\n",
      "26/26 - 20s - loss: 0.5525 - accuracy: 0.7506 - val_loss: 0.5274 - val_accuracy: 0.7512\n",
      "Epoch 5/5\n",
      "\n",
      "Epoch 00005: saving model to weights.05-0.47.h5\n",
      "26/26 - 20s - loss: 0.5213 - accuracy: 0.7555 - val_loss: 0.4671 - val_accuracy: 0.8146\n"
     ]
    },
    {
     "data": {
      "text/plain": [
       "<tensorflow.python.keras.callbacks.History at 0x748a33e0bed0>"
      ]
     },
     "execution_count": 12,
     "metadata": {},
     "output_type": "execute_result"
    }
   ],
   "source": [
    "model = build_model(dense_units=256)\n",
    "model.compile(\n",
    "    optimizer='sgd',\n",
    "    loss='sparse_categorical_crossentropy', \n",
    "    metrics=['accuracy'])\n",
    "  \n",
    "model.fit(train_batches, \n",
    "          epochs=5, \n",
    "          validation_data=validation_batches, \n",
    "          verbose=2,\n",
    "          callbacks=[ModelCheckpoint('weights.{epoch:02d}-{val_loss:.2f}.h5', verbose=1),\n",
    "          ])"
   ]
  },
  {
   "cell_type": "code",
   "execution_count": 13,
   "metadata": {
    "colab": {},
    "colab_type": "code",
    "id": "oGvjQ8IlMmK6"
   },
   "outputs": [
    {
     "name": "stdout",
     "output_type": "stream",
     "text": [
      "\n",
      "Epoch 00001: saving model to saved_model\n",
      "WARNING:tensorflow:From /opt/conda/lib/python3.7/site-packages/tensorflow_core/python/ops/resource_variable_ops.py:1786: calling BaseResourceVariable.__init__ (from tensorflow.python.ops.resource_variable_ops) with constraint is deprecated and will be removed in a future version.\n",
      "Instructions for updating:\n",
      "If using Keras pass *_constraint arguments to layers.\n"
     ]
    },
    {
     "name": "stderr",
     "output_type": "stream",
     "text": [
      "WARNING:tensorflow:From /opt/conda/lib/python3.7/site-packages/tensorflow_core/python/ops/resource_variable_ops.py:1786: calling BaseResourceVariable.__init__ (from tensorflow.python.ops.resource_variable_ops) with constraint is deprecated and will be removed in a future version.\n",
      "Instructions for updating:\n",
      "If using Keras pass *_constraint arguments to layers.\n"
     ]
    },
    {
     "name": "stdout",
     "output_type": "stream",
     "text": [
      "INFO:tensorflow:Assets written to: saved_model/assets\n"
     ]
    },
    {
     "name": "stderr",
     "output_type": "stream",
     "text": [
      "INFO:tensorflow:Assets written to: saved_model/assets\n"
     ]
    },
    {
     "name": "stdout",
     "output_type": "stream",
     "text": [
      "26/26 - 22s - loss: 0.6657 - accuracy: 0.6095 - val_loss: 0.6526 - val_accuracy: 0.6488\n"
     ]
    },
    {
     "data": {
      "text/plain": [
       "<tensorflow.python.keras.callbacks.History at 0x748a33c88390>"
      ]
     },
     "execution_count": 13,
     "metadata": {},
     "output_type": "execute_result"
    }
   ],
   "source": [
    "model = build_model(dense_units=256)\n",
    "model.compile(\n",
    "    optimizer='sgd',\n",
    "    loss='sparse_categorical_crossentropy', \n",
    "    metrics=['accuracy'])\n",
    "  \n",
    "model.fit(train_batches, \n",
    "          epochs=1, \n",
    "          validation_data=validation_batches, \n",
    "          verbose=2,\n",
    "          callbacks=[ModelCheckpoint('saved_model', verbose=1)\n",
    "          ])"
   ]
  },
  {
   "cell_type": "code",
   "execution_count": 14,
   "metadata": {
    "colab": {},
    "colab_type": "code",
    "id": "Y1ConwoB0EjD"
   },
   "outputs": [
    {
     "name": "stdout",
     "output_type": "stream",
     "text": [
      "Epoch 1/2\n",
      "\n",
      "Epoch 00001: saving model to model.h5\n",
      "26/26 - 21s - loss: 0.6745 - accuracy: 0.5608 - val_loss: 0.6688 - val_accuracy: 0.4927\n",
      "Epoch 2/2\n",
      "\n",
      "Epoch 00002: saving model to model.h5\n",
      "26/26 - 20s - loss: 0.6382 - accuracy: 0.6971 - val_loss: 0.6113 - val_accuracy: 0.8244\n"
     ]
    },
    {
     "data": {
      "text/plain": [
       "<tensorflow.python.keras.callbacks.History at 0x748a33a60510>"
      ]
     },
     "execution_count": 14,
     "metadata": {},
     "output_type": "execute_result"
    }
   ],
   "source": [
    "model = build_model(dense_units=256)\n",
    "model.compile(\n",
    "    optimizer='sgd',\n",
    "    loss='sparse_categorical_crossentropy', \n",
    "    metrics=['accuracy'])\n",
    "  \n",
    "model.fit(train_batches, \n",
    "          epochs=2, \n",
    "          validation_data=validation_batches, \n",
    "          verbose=2,\n",
    "          callbacks=[ModelCheckpoint('model.h5', verbose=1)\n",
    "          ])"
   ]
  },
  {
   "cell_type": "markdown",
   "metadata": {
    "colab_type": "text",
    "id": "kptNF0--Lznv"
   },
   "source": [
    "## [Early stopping](https://keras.io/api/callbacks/early_stopping/)\n",
    "\n",
    "Stop training when a monitored metric has stopped improving."
   ]
  },
  {
   "cell_type": "code",
   "execution_count": 15,
   "metadata": {
    "colab": {},
    "colab_type": "code",
    "id": "KJOJTJYdCkdY"
   },
   "outputs": [
    {
     "name": "stdout",
     "output_type": "stream",
     "text": [
      "Epoch 1/50\n",
      "26/26 - 22s - loss: 0.6726 - accuracy: 0.5803 - val_loss: 0.6651 - val_accuracy: 0.5171\n",
      "Epoch 2/50\n",
      "26/26 - 21s - loss: 0.6369 - accuracy: 0.6776 - val_loss: 0.6207 - val_accuracy: 0.6976\n",
      "Epoch 3/50\n",
      "26/26 - 21s - loss: 0.5821 - accuracy: 0.7567 - val_loss: 0.5411 - val_accuracy: 0.8537\n",
      "Epoch 4/50\n",
      "26/26 - 20s - loss: 0.5480 - accuracy: 0.7494 - val_loss: 0.5128 - val_accuracy: 0.7561\n",
      "Epoch 5/50\n",
      "26/26 - 21s - loss: 0.4657 - accuracy: 0.8200 - val_loss: 0.3952 - val_accuracy: 0.9366\n",
      "Epoch 6/50\n",
      "26/26 - 21s - loss: 0.4100 - accuracy: 0.8418 - val_loss: 0.3700 - val_accuracy: 0.8683\n",
      "Epoch 7/50\n",
      "26/26 - 21s - loss: 0.3086 - accuracy: 0.9112 - val_loss: 0.2640 - val_accuracy: 0.9317\n",
      "Epoch 8/50\n",
      "26/26 - 21s - loss: 0.2532 - accuracy: 0.9185 - val_loss: 0.1815 - val_accuracy: 0.9707\n",
      "Epoch 9/50\n",
      "26/26 - 20s - loss: 0.2079 - accuracy: 0.9416 - val_loss: 0.1562 - val_accuracy: 0.9756\n",
      "Epoch 10/50\n",
      "26/26 - 21s - loss: 0.1568 - accuracy: 0.9501 - val_loss: 0.1401 - val_accuracy: 0.9561\n",
      "Epoch 11/50\n",
      "26/26 - 20s - loss: 0.1524 - accuracy: 0.9538 - val_loss: 0.0997 - val_accuracy: 0.9707\n",
      "Epoch 12/50\n",
      "26/26 - 20s - loss: 0.1208 - accuracy: 0.9599 - val_loss: 0.0896 - val_accuracy: 0.9756\n",
      "Epoch 13/50\n",
      "26/26 - 21s - loss: 0.0930 - accuracy: 0.9745 - val_loss: 0.0877 - val_accuracy: 0.9805\n",
      "Epoch 14/50\n",
      "Restoring model weights from the end of the best epoch.\n",
      "26/26 - 21s - loss: 0.0917 - accuracy: 0.9793 - val_loss: 0.0849 - val_accuracy: 0.9756\n",
      "Epoch 00014: early stopping\n"
     ]
    },
    {
     "data": {
      "text/plain": [
       "<tensorflow.python.keras.callbacks.History at 0x748a33990110>"
      ]
     },
     "execution_count": 15,
     "metadata": {},
     "output_type": "execute_result"
    }
   ],
   "source": [
    "model = build_model(dense_units=256)\n",
    "model.compile(\n",
    "    optimizer='sgd',\n",
    "    loss='sparse_categorical_crossentropy', \n",
    "    metrics=['accuracy'])\n",
    "  \n",
    "model.fit(train_batches, \n",
    "          epochs=50, \n",
    "          validation_data=validation_batches, \n",
    "          verbose=2,\n",
    "          callbacks=[EarlyStopping(\n",
    "              patience=3,\n",
    "              min_delta=0.05,\n",
    "              baseline=0.8,\n",
    "              mode='min',\n",
    "              monitor='val_loss',\n",
    "              restore_best_weights=True,\n",
    "              verbose=1)\n",
    "          ])"
   ]
  },
  {
   "cell_type": "markdown",
   "metadata": {
    "colab_type": "text",
    "id": "8mDzWUD4Pqq5"
   },
   "source": [
    "## [CSV Logger](https://keras.io/api/callbacks/csv_logger/)\n",
    "\n",
    "Callback that streams epoch results to a CSV file."
   ]
  },
  {
   "cell_type": "code",
   "execution_count": 16,
   "metadata": {
    "colab": {},
    "colab_type": "code",
    "id": "cffnMpmGPtMh"
   },
   "outputs": [
    {
     "name": "stdout",
     "output_type": "stream",
     "text": [
      "Epoch 1/5\n",
      "26/26 [==============================] - 21s 816ms/step - loss: 0.6640 - accuracy: 0.5998 - val_loss: 0.6499 - val_accuracy: 0.5463\n",
      "Epoch 2/5\n",
      "26/26 [==============================] - 20s 786ms/step - loss: 0.6006 - accuracy: 0.7226 - val_loss: 0.5565 - val_accuracy: 0.8098\n",
      "Epoch 3/5\n",
      "26/26 [==============================] - 21s 792ms/step - loss: 0.5201 - accuracy: 0.8017 - val_loss: 0.5186 - val_accuracy: 0.8000\n",
      "Epoch 4/5\n",
      "26/26 [==============================] - 21s 807ms/step - loss: 0.4583 - accuracy: 0.8066 - val_loss: 0.5224 - val_accuracy: 0.7268\n",
      "Epoch 5/5\n",
      "26/26 [==============================] - 20s 788ms/step - loss: 0.3772 - accuracy: 0.8650 - val_loss: 0.5806 - val_accuracy: 0.6732\n"
     ]
    },
    {
     "data": {
      "text/plain": [
       "<tensorflow.python.keras.callbacks.History at 0x748a3383d410>"
      ]
     },
     "execution_count": 16,
     "metadata": {},
     "output_type": "execute_result"
    }
   ],
   "source": [
    "model = build_model(dense_units=256)\n",
    "model.compile(\n",
    "    optimizer='sgd',\n",
    "    loss='sparse_categorical_crossentropy', \n",
    "    metrics=['accuracy'])\n",
    "  \n",
    "csv_file = 'training.csv'\n",
    "\n",
    "model.fit(train_batches, \n",
    "          epochs=5, \n",
    "          validation_data=validation_batches, \n",
    "          callbacks=[CSVLogger(csv_file)\n",
    "          ])"
   ]
  },
  {
   "cell_type": "code",
   "execution_count": 17,
   "metadata": {
    "colab": {},
    "colab_type": "code",
    "id": "B9tkYi03QV7R"
   },
   "outputs": [
    {
     "data": {
      "text/html": [
       "<div>\n",
       "<style scoped>\n",
       "    .dataframe tbody tr th:only-of-type {\n",
       "        vertical-align: middle;\n",
       "    }\n",
       "\n",
       "    .dataframe tbody tr th {\n",
       "        vertical-align: top;\n",
       "    }\n",
       "\n",
       "    .dataframe thead th {\n",
       "        text-align: right;\n",
       "    }\n",
       "</style>\n",
       "<table border=\"1\" class=\"dataframe\">\n",
       "  <thead>\n",
       "    <tr style=\"text-align: right;\">\n",
       "      <th></th>\n",
       "      <th>epoch</th>\n",
       "      <th>accuracy</th>\n",
       "      <th>loss</th>\n",
       "      <th>val_accuracy</th>\n",
       "      <th>val_loss</th>\n",
       "    </tr>\n",
       "  </thead>\n",
       "  <tbody>\n",
       "    <tr>\n",
       "      <th>0</th>\n",
       "      <td>0</td>\n",
       "      <td>0.599757</td>\n",
       "      <td>0.664397</td>\n",
       "      <td>0.546342</td>\n",
       "      <td>0.649877</td>\n",
       "    </tr>\n",
       "    <tr>\n",
       "      <th>1</th>\n",
       "      <td>1</td>\n",
       "      <td>0.722628</td>\n",
       "      <td>0.601313</td>\n",
       "      <td>0.809756</td>\n",
       "      <td>0.556504</td>\n",
       "    </tr>\n",
       "    <tr>\n",
       "      <th>2</th>\n",
       "      <td>2</td>\n",
       "      <td>0.801703</td>\n",
       "      <td>0.520628</td>\n",
       "      <td>0.800000</td>\n",
       "      <td>0.518604</td>\n",
       "    </tr>\n",
       "    <tr>\n",
       "      <th>3</th>\n",
       "      <td>3</td>\n",
       "      <td>0.806569</td>\n",
       "      <td>0.458694</td>\n",
       "      <td>0.726829</td>\n",
       "      <td>0.522425</td>\n",
       "    </tr>\n",
       "    <tr>\n",
       "      <th>4</th>\n",
       "      <td>4</td>\n",
       "      <td>0.864964</td>\n",
       "      <td>0.375195</td>\n",
       "      <td>0.673171</td>\n",
       "      <td>0.580613</td>\n",
       "    </tr>\n",
       "  </tbody>\n",
       "</table>\n",
       "</div>"
      ],
      "text/plain": [
       "   epoch  accuracy      loss  val_accuracy  val_loss\n",
       "0      0  0.599757  0.664397      0.546342  0.649877\n",
       "1      1  0.722628  0.601313      0.809756  0.556504\n",
       "2      2  0.801703  0.520628      0.800000  0.518604\n",
       "3      3  0.806569  0.458694      0.726829  0.522425\n",
       "4      4  0.864964  0.375195      0.673171  0.580613"
      ]
     },
     "execution_count": 17,
     "metadata": {},
     "output_type": "execute_result"
    }
   ],
   "source": [
    "pd.read_csv(csv_file).head()"
   ]
  },
  {
   "cell_type": "markdown",
   "metadata": {
    "colab_type": "text",
    "id": "Dt9C2Y9fRBKN"
   },
   "source": [
    "## [Learning Rate Scheduler](https://keras.io/api/callbacks/learning_rate_scheduler/)\n",
    "\n",
    "Updates the learning rate during training."
   ]
  },
  {
   "cell_type": "code",
   "execution_count": 18,
   "metadata": {
    "colab": {},
    "colab_type": "code",
    "id": "aJi-xY2VRC03"
   },
   "outputs": [
    {
     "name": "stdout",
     "output_type": "stream",
     "text": [
      "\n",
      "Epoch 00001: LearningRateScheduler reducing learning rate to 0.005.\n",
      "Epoch 1/5\n",
      "26/26 [==============================] - 32s 1s/step - loss: 0.6691 - accuracy: 0.5791 - val_loss: 0.6552 - val_accuracy: 0.6927\n",
      "\n",
      "Epoch 00002: LearningRateScheduler reducing learning rate to 0.0025.\n",
      "Epoch 2/5\n",
      "26/26 [==============================] - 21s 792ms/step - loss: 0.6378 - accuracy: 0.7068 - val_loss: 0.6524 - val_accuracy: 0.6439\n",
      "\n",
      "Epoch 00003: LearningRateScheduler reducing learning rate to 0.00125.\n",
      "Epoch 3/5\n",
      "26/26 [==============================] - 21s 799ms/step - loss: 0.6224 - accuracy: 0.7056 - val_loss: 0.6464 - val_accuracy: 0.6439\n",
      "\n",
      "Epoch 00004: LearningRateScheduler reducing learning rate to 0.000625.\n",
      "Epoch 4/5\n",
      "26/26 [==============================] - 21s 804ms/step - loss: 0.6144 - accuracy: 0.7165 - val_loss: 0.6363 - val_accuracy: 0.7122\n",
      "\n",
      "Epoch 00005: LearningRateScheduler reducing learning rate to 0.0003125.\n",
      "Epoch 5/5\n",
      "26/26 [==============================] - 21s 796ms/step - loss: 0.6103 - accuracy: 0.7287 - val_loss: 0.6337 - val_accuracy: 0.7024\n"
     ]
    },
    {
     "data": {
      "text/plain": [
       "<tensorflow.python.keras.callbacks.History at 0x748a30fe7e90>"
      ]
     },
     "execution_count": 18,
     "metadata": {},
     "output_type": "execute_result"
    }
   ],
   "source": [
    "model = build_model(dense_units=256)\n",
    "model.compile(\n",
    "    optimizer='sgd',\n",
    "    loss='sparse_categorical_crossentropy', \n",
    "    metrics=['accuracy'])\n",
    "  \n",
    "def step_decay(epoch):\n",
    "\tinitial_lr = 0.01\n",
    "\tdrop = 0.5\n",
    "\tepochs_drop = 1\n",
    "\tlr = initial_lr * math.pow(drop, math.floor((1+epoch)/epochs_drop))\n",
    "\treturn lr\n",
    "\n",
    "model.fit(train_batches, \n",
    "          epochs=5, \n",
    "          validation_data=validation_batches, \n",
    "          callbacks=[LearningRateScheduler(step_decay, verbose=1),\n",
    "                    TensorBoard(log_dir='./log_dir')])"
   ]
  },
  {
   "cell_type": "code",
   "execution_count": 22,
   "metadata": {
    "colab": {},
    "colab_type": "code",
    "id": "M2S4n8nrbV91"
   },
   "outputs": [
    {
     "data": {
      "text/plain": [
       "Reusing TensorBoard on port 6006 (pid 8639), started 0:17:16 ago. (Use '!kill 8639' to kill it.)"
      ]
     },
     "metadata": {},
     "output_type": "display_data"
    },
    {
     "data": {
      "text/html": [
       "\n",
       "      <iframe id=\"tensorboard-frame-cbadaa38e9f3d089\" width=\"100%\" height=\"800\" frameborder=\"0\">\n",
       "      </iframe>\n",
       "      <script>\n",
       "        (function() {\n",
       "          const frame = document.getElementById(\"tensorboard-frame-cbadaa38e9f3d089\");\n",
       "          const url = new URL(\"/\", window.location);\n",
       "          url.port = 6006;\n",
       "          frame.src = url;\n",
       "        })();\n",
       "      </script>\n",
       "  "
      ],
      "text/plain": [
       "<IPython.core.display.HTML object>"
      ]
     },
     "metadata": {},
     "output_type": "display_data"
    }
   ],
   "source": [
    "%tensorboard --logdir log_dir"
   ]
  },
  {
   "cell_type": "markdown",
   "metadata": {
    "colab_type": "text",
    "id": "y0wcuQyJE_UK"
   },
   "source": [
    "## [ReduceLROnPlateau](https://keras.io/api/callbacks/reduce_lr_on_plateau/)\n",
    "\n",
    "Reduce learning rate when a metric has stopped improving."
   ]
  },
  {
   "cell_type": "code",
   "execution_count": 20,
   "metadata": {
    "colab": {},
    "colab_type": "code",
    "id": "4naxZ-eCFB27"
   },
   "outputs": [
    {
     "name": "stdout",
     "output_type": "stream",
     "text": [
      "Epoch 1/50\n",
      "26/26 [==============================] - 24s 905ms/step - loss: 0.6444 - accuracy: 0.6253 - val_loss: 0.6039 - val_accuracy: 0.7512\n",
      "Epoch 2/50\n",
      "26/26 [==============================] - 21s 801ms/step - loss: 0.5779 - accuracy: 0.6934 - val_loss: 0.5249 - val_accuracy: 0.7756\n",
      "Epoch 3/50\n",
      "26/26 [==============================] - 21s 812ms/step - loss: 0.4957 - accuracy: 0.7725 - val_loss: 0.4493 - val_accuracy: 0.8000\n",
      "Epoch 4/50\n",
      "26/26 [==============================] - 21s 795ms/step - loss: 0.4456 - accuracy: 0.8102 - val_loss: 0.3927 - val_accuracy: 0.8341\n",
      "Epoch 5/50\n",
      "25/26 [===========================>..] - ETA: 0s - loss: 0.3887 - accuracy: 0.8450\n",
      "Epoch 00005: ReduceLROnPlateau reducing learning rate to 0.0019999999552965165.\n",
      "26/26 [==============================] - 21s 789ms/step - loss: 0.3955 - accuracy: 0.8382 - val_loss: 0.4201 - val_accuracy: 0.8146\n",
      "Epoch 6/50\n",
      "26/26 [==============================] - 21s 792ms/step - loss: 0.3270 - accuracy: 0.8905 - val_loss: 0.3205 - val_accuracy: 0.9024\n",
      "Epoch 7/50\n",
      "26/26 [==============================] - 21s 819ms/step - loss: 0.3020 - accuracy: 0.9112 - val_loss: 0.2974 - val_accuracy: 0.9073\n",
      "Epoch 8/50\n",
      "26/26 [==============================] - 21s 815ms/step - loss: 0.2877 - accuracy: 0.9197 - val_loss: 0.2906 - val_accuracy: 0.9073\n",
      "Epoch 9/50\n",
      "26/26 [==============================] - 20s 785ms/step - loss: 0.2731 - accuracy: 0.9270 - val_loss: 0.2807 - val_accuracy: 0.9073\n",
      "Epoch 10/50\n",
      "26/26 [==============================] - 20s 788ms/step - loss: 0.2583 - accuracy: 0.9428 - val_loss: 0.2459 - val_accuracy: 0.9317\n",
      "Epoch 11/50\n",
      "26/26 [==============================] - 20s 788ms/step - loss: 0.2502 - accuracy: 0.9331 - val_loss: 0.2343 - val_accuracy: 0.9317\n",
      "Epoch 12/50\n",
      "26/26 [==============================] - 20s 785ms/step - loss: 0.2323 - accuracy: 0.9428 - val_loss: 0.2265 - val_accuracy: 0.9317\n",
      "Epoch 13/50\n",
      "25/26 [===========================>..] - ETA: 0s - loss: 0.2218 - accuracy: 0.9525\n",
      "Epoch 00013: ReduceLROnPlateau reducing learning rate to 0.001.\n",
      "26/26 [==============================] - 21s 791ms/step - loss: 0.2237 - accuracy: 0.9501 - val_loss: 0.2275 - val_accuracy: 0.9268\n",
      "Epoch 14/50\n",
      "26/26 [==============================] - 21s 796ms/step - loss: 0.2129 - accuracy: 0.9501 - val_loss: 0.2222 - val_accuracy: 0.9268\n",
      "Epoch 15/50\n",
      "26/26 [==============================] - 21s 792ms/step - loss: 0.2052 - accuracy: 0.9538 - val_loss: 0.2027 - val_accuracy: 0.9463\n",
      "Epoch 16/50\n",
      "26/26 [==============================] - 21s 789ms/step - loss: 0.1999 - accuracy: 0.9574 - val_loss: 0.1937 - val_accuracy: 0.9463\n",
      "Epoch 17/50\n",
      "26/26 [==============================] - 21s 820ms/step - loss: 0.1941 - accuracy: 0.9574 - val_loss: 0.1910 - val_accuracy: 0.9463\n",
      "Epoch 18/50\n",
      "26/26 [==============================] - 21s 796ms/step - loss: 0.1906 - accuracy: 0.9550 - val_loss: 0.1842 - val_accuracy: 0.9463\n",
      "Epoch 19/50\n",
      "26/26 [==============================] - 21s 790ms/step - loss: 0.1834 - accuracy: 0.9623 - val_loss: 0.1787 - val_accuracy: 0.9512\n",
      "Epoch 20/50\n",
      "26/26 [==============================] - 21s 797ms/step - loss: 0.1830 - accuracy: 0.9611 - val_loss: 0.1769 - val_accuracy: 0.9463\n",
      "Epoch 21/50\n",
      "25/26 [===========================>..] - ETA: 0s - loss: 0.1734 - accuracy: 0.9638\n",
      "Epoch 00021: ReduceLROnPlateau reducing learning rate to 0.001.\n",
      "26/26 [==============================] - 21s 797ms/step - loss: 0.1757 - accuracy: 0.9635 - val_loss: 0.1778 - val_accuracy: 0.9463\n",
      "Epoch 22/50\n",
      "26/26 [==============================] - 21s 823ms/step - loss: 0.1693 - accuracy: 0.9647 - val_loss: 0.1687 - val_accuracy: 0.9463\n",
      "Epoch 23/50\n",
      "26/26 [==============================] - 20s 788ms/step - loss: 0.1651 - accuracy: 0.9635 - val_loss: 0.1592 - val_accuracy: 0.9659\n",
      "Epoch 24/50\n",
      "26/26 [==============================] - 21s 796ms/step - loss: 0.1633 - accuracy: 0.9684 - val_loss: 0.1582 - val_accuracy: 0.9610\n",
      "Epoch 25/50\n",
      "25/26 [===========================>..] - ETA: 0s - loss: 0.1540 - accuracy: 0.9712\n",
      "Epoch 00025: ReduceLROnPlateau reducing learning rate to 0.001.\n",
      "26/26 [==============================] - 20s 785ms/step - loss: 0.1589 - accuracy: 0.9672 - val_loss: 0.1630 - val_accuracy: 0.9463\n",
      "Epoch 26/50\n",
      "26/26 [==============================] - 21s 811ms/step - loss: 0.1557 - accuracy: 0.9708 - val_loss: 0.1455 - val_accuracy: 0.9756\n",
      "Epoch 27/50\n",
      "25/26 [===========================>..] - ETA: 0s - loss: 0.1500 - accuracy: 0.9688\n",
      "Epoch 00027: ReduceLROnPlateau reducing learning rate to 0.001.\n",
      "26/26 [==============================] - 20s 781ms/step - loss: 0.1510 - accuracy: 0.9696 - val_loss: 0.1461 - val_accuracy: 0.9659\n",
      "Epoch 28/50\n",
      "25/26 [===========================>..] - ETA: 0s - loss: 0.1447 - accuracy: 0.9712\n",
      "Epoch 00028: ReduceLROnPlateau reducing learning rate to 0.001.\n",
      "26/26 [==============================] - 21s 796ms/step - loss: 0.1457 - accuracy: 0.9708 - val_loss: 0.1583 - val_accuracy: 0.9415\n",
      "Epoch 29/50\n",
      "26/26 [==============================] - 20s 784ms/step - loss: 0.1417 - accuracy: 0.9769 - val_loss: 0.1414 - val_accuracy: 0.9659\n",
      "Epoch 30/50\n",
      "26/26 [==============================] - 20s 778ms/step - loss: 0.1372 - accuracy: 0.9720 - val_loss: 0.1409 - val_accuracy: 0.9659\n",
      "Epoch 31/50\n",
      "26/26 [==============================] - 21s 803ms/step - loss: 0.1338 - accuracy: 0.9769 - val_loss: 0.1294 - val_accuracy: 0.9756\n",
      "Epoch 32/50\n",
      "25/26 [===========================>..] - ETA: 0s - loss: 0.1322 - accuracy: 0.9775\n",
      "Epoch 00032: ReduceLROnPlateau reducing learning rate to 0.001.\n",
      "26/26 [==============================] - 20s 784ms/step - loss: 0.1323 - accuracy: 0.9769 - val_loss: 0.1335 - val_accuracy: 0.9659\n",
      "Epoch 33/50\n",
      "25/26 [===========================>..] - ETA: 0s - loss: 0.1288 - accuracy: 0.9787\n",
      "Epoch 00033: ReduceLROnPlateau reducing learning rate to 0.001.\n",
      "26/26 [==============================] - 20s 773ms/step - loss: 0.1280 - accuracy: 0.9793 - val_loss: 0.1466 - val_accuracy: 0.9415\n",
      "Epoch 34/50\n",
      "26/26 [==============================] - 21s 804ms/step - loss: 0.1262 - accuracy: 0.9793 - val_loss: 0.1243 - val_accuracy: 0.9756\n",
      "Epoch 35/50\n",
      "26/26 [==============================] - 21s 819ms/step - loss: 0.1223 - accuracy: 0.9781 - val_loss: 0.1237 - val_accuracy: 0.9659\n",
      "Epoch 36/50\n",
      "25/26 [===========================>..] - ETA: 0s - loss: 0.1201 - accuracy: 0.9825\n",
      "Epoch 00036: ReduceLROnPlateau reducing learning rate to 0.001.\n",
      "26/26 [==============================] - 20s 782ms/step - loss: 0.1200 - accuracy: 0.9830 - val_loss: 0.1241 - val_accuracy: 0.9610\n",
      "Epoch 37/50\n",
      "26/26 [==============================] - 20s 784ms/step - loss: 0.1162 - accuracy: 0.9793 - val_loss: 0.1209 - val_accuracy: 0.9610\n",
      "Epoch 38/50\n",
      "26/26 [==============================] - 20s 784ms/step - loss: 0.1146 - accuracy: 0.9805 - val_loss: 0.1164 - val_accuracy: 0.9707\n",
      "Epoch 39/50\n",
      "26/26 [==============================] - 21s 792ms/step - loss: 0.1121 - accuracy: 0.9830 - val_loss: 0.1140 - val_accuracy: 0.9707\n",
      "Epoch 40/50\n",
      "26/26 [==============================] - 21s 800ms/step - loss: 0.1081 - accuracy: 0.9818 - val_loss: 0.1134 - val_accuracy: 0.9707\n",
      "Epoch 41/50\n",
      "26/26 [==============================] - 20s 776ms/step - loss: 0.1061 - accuracy: 0.9793 - val_loss: 0.1127 - val_accuracy: 0.9659\n",
      "Epoch 42/50\n",
      "25/26 [===========================>..] - ETA: 0s - loss: 0.1045 - accuracy: 0.9825\n",
      "Epoch 00042: ReduceLROnPlateau reducing learning rate to 0.001.\n",
      "26/26 [==============================] - 20s 784ms/step - loss: 0.1040 - accuracy: 0.9830 - val_loss: 0.1147 - val_accuracy: 0.9610\n",
      "Epoch 43/50\n",
      "26/26 [==============================] - 20s 782ms/step - loss: 0.1008 - accuracy: 0.9842 - val_loss: 0.1117 - val_accuracy: 0.9610\n",
      "Epoch 44/50\n",
      "26/26 [==============================] - 20s 776ms/step - loss: 0.0981 - accuracy: 0.9818 - val_loss: 0.1069 - val_accuracy: 0.9707\n",
      "Epoch 45/50\n",
      "26/26 [==============================] - 20s 784ms/step - loss: 0.0992 - accuracy: 0.9842 - val_loss: 0.1047 - val_accuracy: 0.9707\n",
      "Epoch 46/50\n",
      "26/26 [==============================] - 20s 788ms/step - loss: 0.0960 - accuracy: 0.9842 - val_loss: 0.1014 - val_accuracy: 0.9707\n",
      "Epoch 47/50\n",
      "26/26 [==============================] - 21s 800ms/step - loss: 0.0944 - accuracy: 0.9866 - val_loss: 0.0956 - val_accuracy: 0.9805\n",
      "Epoch 48/50\n",
      "25/26 [===========================>..] - ETA: 0s - loss: 0.0928 - accuracy: 0.9837\n",
      "Epoch 00048: ReduceLROnPlateau reducing learning rate to 0.001.\n",
      "26/26 [==============================] - 21s 796ms/step - loss: 0.0910 - accuracy: 0.9842 - val_loss: 0.1074 - val_accuracy: 0.9610\n",
      "Epoch 49/50\n",
      "26/26 [==============================] - 21s 801ms/step - loss: 0.0909 - accuracy: 0.9842 - val_loss: 0.0927 - val_accuracy: 0.9756\n",
      "Epoch 50/50\n",
      "26/26 [==============================] - 20s 782ms/step - loss: 0.0870 - accuracy: 0.9830 - val_loss: 0.0911 - val_accuracy: 0.9805\n"
     ]
    },
    {
     "data": {
      "text/plain": [
       "<tensorflow.python.keras.callbacks.History at 0x748a33d2c8d0>"
      ]
     },
     "execution_count": 20,
     "metadata": {},
     "output_type": "execute_result"
    }
   ],
   "source": [
    "model = build_model(dense_units=256)\n",
    "model.compile(\n",
    "    optimizer='sgd',\n",
    "    loss='sparse_categorical_crossentropy', \n",
    "    metrics=['accuracy'])\n",
    "  \n",
    "model.fit(train_batches, \n",
    "          epochs=50, \n",
    "          validation_data=validation_batches, \n",
    "          callbacks=[ReduceLROnPlateau(monitor='val_loss', \n",
    "                                       factor=0.2, verbose=1,\n",
    "                                       patience=1, min_lr=0.001),\n",
    "                     TensorBoard(log_dir='./log_dir')])"
   ]
  },
  {
   "cell_type": "code",
   "execution_count": 21,
   "metadata": {
    "colab": {},
    "colab_type": "code",
    "id": "isfTWP4NYudk"
   },
   "outputs": [
    {
     "data": {
      "text/plain": [
       "Reusing TensorBoard on port 6006 (pid 8639), started 0:17:16 ago. (Use '!kill 8639' to kill it.)"
      ]
     },
     "metadata": {},
     "output_type": "display_data"
    },
    {
     "data": {
      "text/html": [
       "\n",
       "      <iframe id=\"tensorboard-frame-6b5ab396d9cb82fa\" width=\"100%\" height=\"800\" frameborder=\"0\">\n",
       "      </iframe>\n",
       "      <script>\n",
       "        (function() {\n",
       "          const frame = document.getElementById(\"tensorboard-frame-6b5ab396d9cb82fa\");\n",
       "          const url = new URL(\"/\", window.location);\n",
       "          url.port = 6006;\n",
       "          frame.src = url;\n",
       "        })();\n",
       "      </script>\n",
       "  "
      ],
      "text/plain": [
       "<IPython.core.display.HTML object>"
      ]
     },
     "metadata": {},
     "output_type": "display_data"
    }
   ],
   "source": [
    "%tensorboard --logdir log_dir"
   ]
  },
  {
   "cell_type": "code",
   "execution_count": null,
   "metadata": {},
   "outputs": [],
   "source": []
  }
 ],
 "metadata": {
  "colab": {
   "collapsed_sections": [],
   "include_colab_link": true,
   "name": "ExploringCallbacks.ipynb",
   "provenance": []
  },
  "kernelspec": {
   "display_name": "Python 3",
   "language": "python",
   "name": "python3"
  },
  "language_info": {
   "codemirror_mode": {
    "name": "ipython",
    "version": 3
   },
   "file_extension": ".py",
   "mimetype": "text/x-python",
   "name": "python",
   "nbconvert_exporter": "python",
   "pygments_lexer": "ipython3",
   "version": "3.7.6"
  }
 },
 "nbformat": 4,
 "nbformat_minor": 4
}
