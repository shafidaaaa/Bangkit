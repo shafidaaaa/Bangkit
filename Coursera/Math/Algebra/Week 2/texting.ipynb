{
 "cells": [
  {
   "cell_type": "code",
   "execution_count": 6,
   "metadata": {},
   "outputs": [],
   "source": [
    "M = [[\"x1\", \"x2\", \"x3\"], [\"y1\", \"y2\", \"y3\"], [\"v1\",\"v2\",\"v3\"]]"
   ]
  },
  {
   "cell_type": "code",
   "execution_count": 25,
   "metadata": {},
   "outputs": [
    {
     "name": "stdout",
     "output_type": "stream",
     "text": [
      "['v1', 'v2', 'v3']\n",
      "['y1', 'y2', 'y3']\n",
      "['v1', 'v2', 'v3']\n",
      "['x1', 'x2', 'x3']\n",
      "['y1', 'y2', 'y3']\n",
      "['v1', 'v2', 'v3']\n"
     ]
    }
   ],
   "source": [
    "# GRADED FUNCTION: back_substitution\n",
    "\n",
    "def back_substitution(M):\n",
    "    \"\"\"\n",
    "    Perform back substitution on an augmented matrix (with unique solution) in reduced row echelon form to find the solution to the linear system.\n",
    "\n",
    "    Parameters:\n",
    "    - M (numpy.array): The augmented matrix in row echelon form with unitary pivots (n x n+1).\n",
    "\n",
    "    Returns:\n",
    "    numpy.array: The solution vector of the linear system.\n",
    "    \"\"\"\n",
    "    \n",
    "    # Make a copy of the input matrix to avoid modifying the original\n",
    "    M = M.copy()\n",
    "\n",
    "    # Get the number of rows (and columns) in the matrix of coefficients\n",
    "    num_rows = len(M)\n",
    "\n",
    "    ### START CODE HERE ####\n",
    "    \n",
    "    # Iterate from bottom to top\n",
    "    for row in range(num_rows - 1, -1, -1): \n",
    "        # Get the substitution row. Remember now you must proceed from bottom to top, so you must start at the last row in the matrix.\n",
    "        # The last row in matrix is in the index num_rows - 1, then you need to subtract the current index.\n",
    "        print(M[row])\n",
    "        # Iterate over the rows above the substitution_row\n",
    "        for j in range(row + 1, num_rows): \n",
    "            print(M[j])\n",
    "\n",
    "back_substitution(M)"
   ]
  },
  {
   "cell_type": "code",
   "execution_count": 23,
   "metadata": {},
   "outputs": [
    {
     "name": "stdout",
     "output_type": "stream",
     "text": [
      "v1\n",
      "y1\n",
      "v1\n"
     ]
    }
   ],
   "source": []
  },
  {
   "cell_type": "code",
   "execution_count": 1,
   "metadata": {},
   "outputs": [],
   "source": [
    "import numpy as np"
   ]
  },
  {
   "cell_type": "code",
   "execution_count": null,
   "metadata": {},
   "outputs": [],
   "source": [
    "# GRADED FUNCTION: T_stretch\n",
    "\n",
    "\n",
    "def T_stretch(a, v):\n",
    "    \"\"\"\n",
    "    Performs a 2D stretching transformation on a vector v using a stretching factor a.\n",
    "\n",
    "    Args:\n",
    "        a (float): The stretching factor.\n",
    "        v (numpy.array): The vector (or vectors) to be stretched.\n",
    "\n",
    "    Returns:\n",
    "        numpy.array: The stretched vector.\n",
    "    \"\"\"\n",
    "\n",
    "    ### START CODE HERE ###\n",
    "    # Define the transformation matrix\n",
    "\n",
    "    T = np.array([[1, 0], [0, 1]])\n",
    "\n",
    "    # Compute the transformation\n",
    "    w = a*T @ v\n",
    "    ### END CODE HERE ###\n",
    "\n",
    "    return w\n"
   ]
  }
 ],
 "metadata": {
  "kernelspec": {
   "display_name": "base",
   "language": "python",
   "name": "python3"
  },
  "language_info": {
   "codemirror_mode": {
    "name": "ipython",
    "version": 3
   },
   "file_extension": ".py",
   "mimetype": "text/x-python",
   "name": "python",
   "nbconvert_exporter": "python",
   "pygments_lexer": "ipython3",
   "version": "3.11.5"
  }
 },
 "nbformat": 4,
 "nbformat_minor": 2
}
