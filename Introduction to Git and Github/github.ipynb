{
 "cells": [
  {
   "cell_type": "code",
   "execution_count": null,
   "metadata": {},
   "outputs": [],
   "source": [
    "git clone https://github.com/redquinoa/health-checks.git\n"
   ]
  },
  {
   "cell_type": "markdown",
   "metadata": {},
   "source": [
    "How they are used\n",
    "When using APIs, the usage depends on the specific API. With most APIs, you are required to send the API key with every request. It can be sent in one of several ways:\n",
    "\n",
    "As an HTTP parameter in the request URL. Example: \n",
    "GET https://myapp.com/api/users/list?apikey=12345678\n",
    "\n",
    "As an HTTP header sent with the request. Example: \n",
    "GET https://myapp.com/api/users/listX-API-Key: 12345678 \n",
    "\n",
    "(Rarely) Posted to a specific authorization endpoint, which returns another token or a cookie to be sent with subsequent requests. Example:\n",
    "POST https://myapp.com/api/auth{ “token”: “12345678” }"
   ]
  },
  {
   "cell_type": "markdown",
   "metadata": {},
   "source": [
    "API (Application Programming Interface):\n",
    "\n",
    "An API key is an authentication token that allows you to call an API.\n",
    "It identifies the person, programmer, or program trying to access a website.\n",
    "API keys are used for authentication and authorization.\n",
    "They ensure that only authorized users or applications can make API calls.\n",
    "API keys can be sent in the request URL, as an HTTP header, or posted to an authorization endpoint.\n",
    "It is important not to hardcode API keys into application code to prevent unauthorized access.\n",
    "SSH (Secure Shell):\n",
    "\n",
    "SSH is a cryptographic network protocol used for secure remote access to systems.\n",
    "It provides a secure channel over an unsecured network.\n",
    "SSH uses public-key cryptography to authenticate and establish a secure connection.\n",
    "It allows users to securely log in to remote systems and execute commands.\n",
    "SSH can also be used for secure file transfer and tunneling.\n",
    "Please let me know if you need more information or have any specific questions!\n",
    "\n",
    "And if you want to continue exploring this topic, try one of these follow-up questions:"
   ]
  },
  {
   "cell_type": "code",
   "execution_count": null,
   "metadata": {},
   "outputs": [],
   "source": [
    "git checkout -b refactor"
   ]
  },
  {
   "cell_type": "code",
   "execution_count": null,
   "metadata": {},
   "outputs": [],
   "source": [
    "git push -u origin refactor"
   ]
  }
 ],
 "metadata": {
  "language_info": {
   "name": "python"
  }
 },
 "nbformat": 4,
 "nbformat_minor": 2
}
